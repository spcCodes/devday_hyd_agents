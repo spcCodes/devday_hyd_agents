{
 "cells": [
  {
   "cell_type": "markdown",
   "id": "31a50f5f",
   "metadata": {},
   "source": [
    "## Loading the environments"
   ]
  },
  {
   "cell_type": "code",
   "execution_count": 1,
   "id": "1cc4dcd8",
   "metadata": {},
   "outputs": [
    {
     "data": {
      "text/plain": [
       "True"
      ]
     },
     "execution_count": 1,
     "metadata": {},
     "output_type": "execute_result"
    }
   ],
   "source": [
    "import os\n",
    "from dotenv import load_dotenv\n",
    "load_dotenv()"
   ]
  },
  {
   "cell_type": "markdown",
   "id": "b57da6a9",
   "metadata": {},
   "source": [
    "# Importing packages"
   ]
  },
  {
   "cell_type": "code",
   "execution_count": 2,
   "id": "2d32d1fb",
   "metadata": {},
   "outputs": [],
   "source": [
    "from dotenv import load_dotenv\n",
    "from langchain.prompts import ChatPromptTemplate\n",
    "from langchain_openai import ChatOpenAI\n",
    "from IPython.display import Image, display\n",
    "from langgraph.graph import StateGraph , START , END , MessageGraph \n",
    "from langchain_core.messages import HumanMessage , AIMessage , SystemMessage\n",
    "from typing import TypedDict\n"
   ]
  },
  {
   "cell_type": "code",
   "execution_count": 3,
   "id": "d205aa53",
   "metadata": {},
   "outputs": [],
   "source": [
    "model = ChatOpenAI(model=\"gpt-4.1-mini\", temperature=0)"
   ]
  },
  {
   "cell_type": "code",
   "execution_count": 4,
   "id": "1357b919",
   "metadata": {},
   "outputs": [
    {
     "data": {
      "text/plain": [
       "AIMessage(content=\"Hello! I'm doing great, thank you. How can I assist you today?\", additional_kwargs={'refusal': None}, response_metadata={'token_usage': {'completion_tokens': 16, 'prompt_tokens': 13, 'total_tokens': 29, 'completion_tokens_details': {'accepted_prediction_tokens': 0, 'audio_tokens': 0, 'reasoning_tokens': 0, 'rejected_prediction_tokens': 0}, 'prompt_tokens_details': {'audio_tokens': 0, 'cached_tokens': 0}}, 'model_name': 'gpt-4.1-mini-2025-04-14', 'system_fingerprint': 'fp_6f2eabb9a5', 'id': 'chatcmpl-BzdzsWCEgZ5RJ1EIf47E5bqxmepRj', 'service_tier': 'default', 'finish_reason': 'stop', 'logprobs': None}, id='run--fc84743b-0515-4c2a-bfbb-81417c59ee8b-0', usage_metadata={'input_tokens': 13, 'output_tokens': 16, 'total_tokens': 29, 'input_token_details': {'audio': 0, 'cache_read': 0}, 'output_token_details': {'audio': 0, 'reasoning': 0}})"
      ]
     },
     "execution_count": 4,
     "metadata": {},
     "output_type": "execute_result"
    }
   ],
   "source": [
    "model.invoke(\"Hello, how are you?\")"
   ]
  },
  {
   "cell_type": "markdown",
   "id": "0b587ddd",
   "metadata": {},
   "source": [
    "## Some utility functions"
   ]
  },
  {
   "cell_type": "code",
   "execution_count": 5,
   "id": "76c9499b",
   "metadata": {},
   "outputs": [],
   "source": [
    "\n",
    "# to display the graph\n",
    "def display_graph(app):\n",
    "    # this function will display the graph of the app\n",
    "    try:\n",
    "        display(Image(app.get_graph().draw_mermaid_png()))\n",
    "    except Exception as e:\n",
    "        # This requires some extra dependencies and is optional\n",
    "        print(e)\n",
    "\n",
    "\n",
    "\n",
    "# To stream the output of the app\n",
    "def stream_output(app, input):\n",
    "    for output in app.stream(input):\n",
    "        for key,value in output.items():\n",
    "            print(f\"here is output from {key}\")\n",
    "            print(\"_______\")\n",
    "            print(value)\n",
    "            print(\"\\n\")"
   ]
  },
  {
   "cell_type": "code",
   "execution_count": 6,
   "id": "016395b6",
   "metadata": {},
   "outputs": [],
   "source": [
    "# define the state\n",
    "from typing import Annotated\n",
    "from langgraph.graph.message import add_messages\n",
    "\n",
    "class State(TypedDict):\n",
    "    messages:Annotated[list,add_messages]"
   ]
  },
  {
   "cell_type": "markdown",
   "id": "7079be4c",
   "metadata": {},
   "source": [
    "## Level 0 : Start with simple worflow"
   ]
  },
  {
   "cell_type": "code",
   "execution_count": 10,
   "id": "13ec4987",
   "metadata": {},
   "outputs": [],
   "source": [
    "def greet_user(state:State):\n",
    "    \"\"\"\n",
    "    This function will greet the user with a message\n",
    "    \"\"\"\n",
    "    user_message = state[\"messages\"][0].content\n",
    "    return {\"messages\" : [f\"Hello {user_message}!\"]}\n",
    "\n"
   ]
  },
  {
   "cell_type": "code",
   "execution_count": 11,
   "id": "6248138d",
   "metadata": {},
   "outputs": [],
   "source": [
    "#define the graph\n",
    "graph = StateGraph(State)\n",
    "graph.add_node(\"User_greetings\" , greet_user)\n",
    "\n",
    "graph.add_edge(START , \"User_greetings\")\n",
    "graph.add_edge(\"User_greetings\" , END)\n",
    "app = graph.compile()"
   ]
  },
  {
   "cell_type": "code",
   "execution_count": 12,
   "id": "aa1d66b9",
   "metadata": {},
   "outputs": [
    {
     "data": {
      "text/plain": [
       "{'messages': [HumanMessage(content='Suman', additional_kwargs={}, response_metadata={}, id='d7bddd3a-c8c0-466d-a7a2-a577be9848cf'),\n",
       "  HumanMessage(content='Hello Suman!', additional_kwargs={}, response_metadata={}, id='8475f572-c467-4ccb-8e48-7416b4e1ddbb')]}"
      ]
     },
     "execution_count": 12,
     "metadata": {},
     "output_type": "execute_result"
    }
   ],
   "source": [
    "app.invoke({\"messages\":\"Suman\"})"
   ]
  },
  {
   "cell_type": "code",
   "execution_count": 13,
   "id": "02db365f",
   "metadata": {},
   "outputs": [
    {
     "data": {
      "image/png": "[encoded data removed]",
      "text/plain": [
       "<IPython.core.display.Image object>"
      ]
     },
     "metadata": {},
     "output_type": "display_data"
    }
   ],
   "source": [
    "display_graph(app)"
   ]
  },
  {
   "cell_type": "markdown",
   "id": "39fc5433",
   "metadata": {},
   "source": [
    "## Level 1:    Workflows in a graph"
   ]
  },
  {
   "cell_type": "code",
   "execution_count": 14,
   "id": "922a3676",
   "metadata": {},
   "outputs": [],
   "source": [
    "def greet_user(state: State):\n",
    "    \"\"\"\n",
    "    This function will greet the user with a message\n",
    "    \"\"\"\n",
    "    user_message = state[\"messages\"][0].content\n",
    "    return {\"messages\": [f\"Hello {user_message}!\"]}\n",
    "\n",
    "def convert_to_uppercase(state: State):\n",
    "    \"\"\"\n",
    "    This function will convert the input word to uppercase\n",
    "    \"\"\"\n",
    "    last_message = state[\"messages\"][-1].content\n",
    "    return {\"messages\": [last_message.upper()]}\n"
   ]
  },
  {
   "cell_type": "code",
   "execution_count": 17,
   "id": "28e1e019",
   "metadata": {},
   "outputs": [],
   "source": [
    "#define the workflow\n",
    "\n",
    "workflow = StateGraph(State)\n",
    "workflow.add_node(\"User_greetings\" , greet_user)\n",
    "workflow.add_node(\"Uppercase_converter\" , convert_to_uppercase)\n",
    "\n",
    "workflow.add_edge(START , \"User_greetings\")\n",
    "workflow.add_edge(\"User_greetings\" , \"Uppercase_converter\")\n",
    "workflow.add_edge(\"Uppercase_converter\" , END)\n",
    "app = workflow.compile()\n"
   ]
  },
  {
   "cell_type": "code",
   "execution_count": 18,
   "id": "2c7c64dc",
   "metadata": {},
   "outputs": [
    {
     "data": {
      "text/plain": [
       "{'messages': [HumanMessage(content='Suman', additional_kwargs={}, response_metadata={}, id='9b8cc871-e9da-4af9-b8ec-91817b5f608d'),\n",
       "  HumanMessage(content='Hello Suman!', additional_kwargs={}, response_metadata={}, id='480f436e-6e6c-4370-9e2f-bad3bba666c2'),\n",
       "  HumanMessage(content='HELLO SUMAN!', additional_kwargs={}, response_metadata={}, id='c8daa0b3-dfa9-48af-a8f9-c2a3e9be3b94')]}"
      ]
     },
     "execution_count": 18,
     "metadata": {},
     "output_type": "execute_result"
    }
   ],
   "source": [
    "app.invoke({\"messages\": \"Suman\"})"
   ]
  },
  {
   "cell_type": "code",
   "execution_count": 19,
   "id": "34e40eaa",
   "metadata": {},
   "outputs": [
    {
     "data": {
      "image/png": "[encoded data removed]",
      "text/plain": [
       "<IPython.core.display.Image object>"
      ]
     },
     "metadata": {},
     "output_type": "display_data"
    }
   ],
   "source": [
    "display_graph(app)"
   ]
  },
  {
   "cell_type": "code",
   "execution_count": 20,
   "id": "1109fa2a",
   "metadata": {},
   "outputs": [
    {
     "name": "stdout",
     "output_type": "stream",
     "text": [
      "here is output from User_greetings\n",
      "_______\n",
      "{'messages': ['Hello Suman!']}\n",
      "\n",
      "\n",
      "here is output from Uppercase_converter\n",
      "_______\n",
      "{'messages': ['HELLO SUMAN!']}\n",
      "\n",
      "\n"
     ]
    }
   ],
   "source": [
    "stream_output(app, {\"messages\": \"Suman\"})"
   ]
  },
  {
   "cell_type": "markdown",
   "id": "f4a42cda",
   "metadata": {},
   "source": [
    "## Level 2 : Using an LLM and a function"
   ]
  },
  {
   "cell_type": "code",
   "execution_count": 55,
   "id": "09dd6a07",
   "metadata": {},
   "outputs": [],
   "source": [
    "def get_response_from_llm(state: State):\n",
    "    \"\"\"\n",
    "    This function will get the response from the LLM\n",
    "    \"\"\"\n",
    "    user_input = state[\"messages\"][0].content\n",
    "    response = model.invoke(user_input).content\n",
    "    return {\"messages\": [response]}\n",
    "\n",
    "\n",
    "def convert_to_uppercase(state:State):\n",
    "    \"\"\"\n",
    "    This function will convert the message to uppercase\n",
    "    \"\"\"\n",
    "    response_from_llm = state[\"messages\"][-1].content\n",
    "    uppercase_output = response_from_llm.upper()\n",
    "    \n",
    "    return {\"messages\": [uppercase_output]}\n",
    "\n"
   ]
  },
  {
   "cell_type": "code",
   "execution_count": 56,
   "id": "2d3bc142",
   "metadata": {},
   "outputs": [],
   "source": [
    "# define the workflow\n",
    "\n",
    "workflow = StateGraph(State)\n",
    "workflow.add_node(\"LLM_response\" , get_response_from_llm)\n",
    "workflow.add_node(\"Uppercase_converter\" , convert_to_uppercase)\n",
    "workflow.add_edge(START , \"LLM_response\")\n",
    "workflow.add_edge(\"LLM_response\" , \"Uppercase_converter\")\n",
    "workflow.add_edge(\"Uppercase_converter\" , END)\n",
    "app = workflow.compile()\n"
   ]
  },
  {
   "cell_type": "code",
   "execution_count": 57,
   "id": "5c15bf31",
   "metadata": {},
   "outputs": [
    {
     "data": {
      "text/plain": [
       "{'messages': [HumanMessage(content='Hello, how are you?', additional_kwargs={}, response_metadata={}, id='8c3f6a4a-89af-4d95-8a45-0e33b391fdc2'),\n",
       "  HumanMessage(content=\"Hello! I'm doing well, thank you. How can I assist you today?\", additional_kwargs={}, response_metadata={}, id='a7ae887a-b7bf-45fc-a7c9-846f92321c72'),\n",
       "  HumanMessage(content=\"HELLO! I'M DOING WELL, THANK YOU. HOW CAN I ASSIST YOU TODAY?\", additional_kwargs={}, response_metadata={}, id='dc07abab-7d1c-4660-af5b-30a04a10c810')]}"
      ]
     },
     "execution_count": 57,
     "metadata": {},
     "output_type": "execute_result"
    }
   ],
   "source": [
    "app.invoke({\"messages\": \"Hello, how are you?\"})"
   ]
  },
  {
   "cell_type": "code",
   "execution_count": 58,
   "id": "836d8d4b",
   "metadata": {},
   "outputs": [
    {
     "data": {
      "image/png": "[encoded data removed]",
      "text/plain": [
       "<IPython.core.display.Image object>"
      ]
     },
     "metadata": {},
     "output_type": "display_data"
    }
   ],
   "source": [
    "display_graph(app)"
   ]
  },
  {
   "cell_type": "code",
   "execution_count": 59,
   "id": "6217253f",
   "metadata": {},
   "outputs": [
    {
     "name": "stdout",
     "output_type": "stream",
     "text": [
      "here is output from LLM_response\n",
      "_______\n",
      "{'messages': [\"Hello! I'm doing great, thank you. How can I assist you today?\"]}\n",
      "\n",
      "\n",
      "here is output from Uppercase_converter\n",
      "_______\n",
      "{'messages': [\"HELLO! I'M DOING GREAT, THANK YOU. HOW CAN I ASSIST YOU TODAY?\"]}\n",
      "\n",
      "\n"
     ]
    }
   ],
   "source": [
    "stream_output(app, {\"messages\": \"Hello, how are you?\"})"
   ]
  },
  {
   "cell_type": "markdown",
   "id": "3a8a56f4",
   "metadata": {},
   "source": [
    "## Level 3: real world use case"
   ]
  },
  {
   "cell_type": "code",
   "execution_count": 60,
   "id": "c05c6370",
   "metadata": {},
   "outputs": [],
   "source": [
    "def classify_sentiment(state:State):\n",
    "    \"\"\"\n",
    "    This function will classify the sentiment of the message\n",
    "    \"\"\"\n",
    "    user_input = state[\"messages\"][0].content\n",
    "    prompt = f\"You are a sentiment classifier. You will be given a message and you will need to classify the sentiment of the message. The sentiment can be positive, negative or neutral. Return the sentiment as a string.\"\n",
    "    final_message = user_input + prompt\n",
    "    response = model.invoke(final_message).content\n",
    "    return {\"messages\": [response]}\n",
    "\n",
    "\n",
    "def get_total_word_count(state):\n",
    "    \"\"\"\n",
    "    This function will get the total word count of the message\n",
    "    \"\"\"\n",
    "    response_from_llm = state[\"messages\"][-1].content\n",
    "    word_count = len(response_from_llm.split())\n",
    "    return {\"messages\": [f\"Total word count: {word_count}\"]}\n"
   ]
  },
  {
   "cell_type": "code",
   "execution_count": 61,
   "id": "9d022433",
   "metadata": {},
   "outputs": [],
   "source": [
    "workflow = StateGraph(State)\n",
    "workflow.add_node(\"Sentiment_classifier\" , classify_sentiment)\n",
    "workflow.add_node(\"Total_word_counter\" , get_total_word_count)\n",
    "workflow.add_edge(START , \"Sentiment_classifier\")\n",
    "workflow.add_edge(\"Sentiment_classifier\" , \"Total_word_counter\")\n",
    "workflow.add_edge(\"Total_word_counter\" , END)\n",
    "app = workflow.compile()"
   ]
  },
  {
   "cell_type": "code",
   "execution_count": 63,
   "id": "a6b01feb",
   "metadata": {},
   "outputs": [
    {
     "data": {
      "text/plain": [
       "{'messages': [HumanMessage(content='I am happy with the quality of the product and the service', additional_kwargs={}, response_metadata={}, id='22c3d73c-d722-4bf6-b0c4-5e0cfa973252'),\n",
       "  HumanMessage(content='positive', additional_kwargs={}, response_metadata={}, id='b967bdd1-0a05-4184-92a0-34bfb501528d'),\n",
       "  HumanMessage(content='Total word count: 1', additional_kwargs={}, response_metadata={}, id='ec4c8ef4-0c5c-4099-9a3d-9c474e016aa6')]}"
      ]
     },
     "execution_count": 63,
     "metadata": {},
     "output_type": "execute_result"
    }
   ],
   "source": [
    "app.invoke({\"messages\": \"I am happy with the quality of the product and the service\"})"
   ]
  },
  {
   "cell_type": "code",
   "execution_count": 64,
   "id": "ee4f618a",
   "metadata": {},
   "outputs": [
    {
     "data": {
      "image/png": "[encoded data removed]",
      "text/plain": [
       "<IPython.core.display.Image object>"
      ]
     },
     "metadata": {},
     "output_type": "display_data"
    }
   ],
   "source": [
    "display_graph(app)"
   ]
  },
  {
   "cell_type": "code",
   "execution_count": 66,
   "id": "5dacaba2",
   "metadata": {},
   "outputs": [
    {
     "name": "stdout",
     "output_type": "stream",
     "text": [
      "here is output from Sentiment_classifier\n",
      "_______\n",
      "{'messages': ['positive']}\n",
      "\n",
      "\n",
      "here is output from Total_word_counter\n",
      "_______\n",
      "{'messages': ['Total word count: 1']}\n",
      "\n",
      "\n"
     ]
    }
   ],
   "source": [
    "stream_output(app, {\"messages\": \"I am happy with the product\"})"
   ]
  },
  {
   "cell_type": "code",
   "execution_count": null,
   "id": "d749429b",
   "metadata": {},
   "outputs": [],
   "source": []
  },
  {
   "cell_type": "code",
   "execution_count": null,
   "id": "fe9d60cb",
   "metadata": {},
   "outputs": [],
   "source": []
  },
  {
   "cell_type": "code",
   "execution_count": null,
   "id": "b0ad5f52",
   "metadata": {},
   "outputs": [],
   "source": []
  },
  {
   "cell_type": "code",
   "execution_count": null,
   "id": "1fe21468",
   "metadata": {},
   "outputs": [],
   "source": []
  },
  {
   "cell_type": "code",
   "execution_count": null,
   "id": "50f96bb2",
   "metadata": {},
   "outputs": [],
   "source": []
  },
  {
   "cell_type": "code",
   "execution_count": null,
   "id": "1aa5566b",
   "metadata": {},
   "outputs": [],
   "source": []
  },
  {
   "cell_type": "code",
   "execution_count": null,
   "id": "872b81d7",
   "metadata": {},
   "outputs": [],
   "source": []
  },
  {
   "cell_type": "code",
   "execution_count": null,
   "id": "b79fa2b4-7c15-4994-9ca6-a331ab7ab783",
   "metadata": {},
   "outputs": [],
   "source": []
  },
  {
   "cell_type": "code",
   "execution_count": null,
   "id": "4488f6f6-c576-4e2c-ba99-8339ba313052",
   "metadata": {},
   "outputs": [],
   "source": []
  },
  {
   "cell_type": "code",
   "execution_count": null,
   "id": "15766144-1d86-47ae-aad0-acb7fbc27af7",
   "metadata": {},
   "outputs": [],
   "source": []
  },
  {
   "cell_type": "code",
   "execution_count": null,
   "id": "27baa516-d644-437e-aea8-352cb3c9003d",
   "metadata": {},
   "outputs": [],
   "source": []
  }
 ],
 "metadata": {
  "kernelspec": {
   "display_name": ".venv",
   "language": "python",
   "name": "python3"
  },
  "language_info": {
   "codemirror_mode": {
    "name": "ipython",
    "version": 3
   },
   "file_extension": ".py",
   "mimetype": "text/x-python",
   "name": "python",
   "nbconvert_exporter": "python",
   "pygments_lexer": "ipython3",
   "version": "3.13.3"
  }
 },
 "nbformat": 4,
 "nbformat_minor": 5
}
